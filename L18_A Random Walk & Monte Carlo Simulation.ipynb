{
 "cells": [
  {
   "cell_type": "markdown",
   "metadata": {},
   "source": [
    "# A Random Walk & Monte Carlo Simulation\n",
    "\n",
    "### Jana Rasras"
   ]
  },
  {
   "cell_type": "code",
   "execution_count": 1,
   "metadata": {},
   "outputs": [],
   "source": [
    "import random"
   ]
  },
  {
   "cell_type": "code",
   "execution_count": 2,
   "metadata": {},
   "outputs": [
    {
     "name": "stdout",
     "output_type": "stream",
     "text": [
      "(2, 2) distance from home =  4\n",
      "(-1, -3) distance from home =  4\n",
      "(1, -3) distance from home =  4\n",
      "(-4, 0) distance from home =  4\n",
      "(1, 1) distance from home =  2\n",
      "(0, 0) distance from home =  0\n",
      "(-2, -2) distance from home =  4\n",
      "(-1, -3) distance from home =  4\n",
      "(2, -4) distance from home =  6\n",
      "(-3, -1) distance from home =  4\n",
      "(0, -2) distance from home =  2\n",
      "(-2, -2) distance from home =  4\n",
      "(1, 3) distance from home =  4\n",
      "(-1, -3) distance from home =  4\n",
      "(0, 2) distance from home =  2\n",
      "(-1, -1) distance from home =  2\n",
      "(2, 0) distance from home =  2\n",
      "(-1, -5) distance from home =  6\n",
      "(-4, -2) distance from home =  6\n",
      "(-3, 1) distance from home =  4\n",
      "(-1, 1) distance from home =  2\n",
      "(4, -4) distance from home =  8\n",
      "(-5, -1) distance from home =  6\n",
      "(2, 0) distance from home =  2\n",
      "(1, -1) distance from home =  2\n"
     ]
    }
   ],
   "source": [
    "def random_walk(n):\n",
    "    ''' '''\n",
    "    x,y = 0, 0\n",
    "    for i in range(n):\n",
    "        (dx,dy) = random.choice([(0, 1), (0, -1), (1, 0), (-1, 0)])\n",
    "        x += dx\n",
    "        y += dy\n",
    "        \n",
    "    return (x,y)\n",
    "for i in range(25):\n",
    "    walk = random_walk(10)\n",
    "    print(walk, 'distance from home = ', abs(walk[0]) + abs(walk[1]))\n",
    "    "
   ]
  },
  {
   "cell_type": "code",
   "execution_count": null,
   "metadata": {},
   "outputs": [],
   "source": []
  }
 ],
 "metadata": {
  "kernelspec": {
   "display_name": "Python 3",
   "language": "python",
   "name": "python3"
  },
  "language_info": {
   "codemirror_mode": {
    "name": "ipython",
    "version": 3
   },
   "file_extension": ".py",
   "mimetype": "text/x-python",
   "name": "python",
   "nbconvert_exporter": "python",
   "pygments_lexer": "ipython3",
   "version": "3.7.3"
  }
 },
 "nbformat": 4,
 "nbformat_minor": 2
}
