{
 "cells": [
  {
   "cell_type": "markdown",
   "metadata": {},
   "source": [
    "# Text Files in Python\n",
    "\n",
    "### Jana Rasras"
   ]
  },
  {
   "cell_type": "markdown",
   "metadata": {},
   "source": [
    "There are 2 ways to open file:"
   ]
  },
  {
   "cell_type": "code",
   "execution_count": 1,
   "metadata": {},
   "outputs": [],
   "source": [
    "f = open('movie.txt')"
   ]
  },
  {
   "cell_type": "markdown",
   "metadata": {},
   "source": [
    "reading from file"
   ]
  },
  {
   "cell_type": "code",
   "execution_count": 2,
   "metadata": {},
   "outputs": [],
   "source": [
    "txt = f.read()"
   ]
  },
  {
   "cell_type": "code",
   "execution_count": 3,
   "metadata": {},
   "outputs": [],
   "source": [
    "f.close()"
   ]
  },
  {
   "cell_type": "code",
   "execution_count": 7,
   "metadata": {},
   "outputs": [
    {
     "name": "stdout",
     "output_type": "stream",
     "text": [
      "{\n",
      "\n",
      "\"title\" : \"Anne with an E\",\n",
      "\"release_year\" : 2017,\n",
      "\"is_awesome\"  : true,\n",
      "\"won_oscar\" : false,\n",
      "\"actors\" : [\"Anne\", \" Gilbert\", \"Marella\", \"Diana\", \"Mathue\"],\n",
      "\"budget\" : null,\n",
      "\"credits\" : {\n",
      "\t\"director\" : \"Andrew\",\n",
      "\t\"writer\" : \"Bill\",\n",
      "\t\"Composer\" : \"John\"\n",
      "\t}\n",
      "\n",
      "\n",
      "}\n",
      "\n"
     ]
    }
   ],
   "source": [
    "print(txt)"
   ]
  },
  {
   "cell_type": "code",
   "execution_count": 8,
   "metadata": {},
   "outputs": [],
   "source": [
    "with open('movie.txt') as f:\n",
    "    bio = f.read()"
   ]
  },
  {
   "cell_type": "code",
   "execution_count": 10,
   "metadata": {
    "scrolled": true
   },
   "outputs": [
    {
     "name": "stdout",
     "output_type": "stream",
     "text": [
      "{\n",
      "\n",
      "\"title\" : \"Anne with an E\",\n",
      "\"release_year\" : 2017,\n",
      "\"is_awesome\"  : true,\n",
      "\"won_oscar\" : false,\n",
      "\"actors\" : [\"Anne\", \" Gilbert\", \"Marella\", \"Diana\", \"Mathue\"],\n",
      "\"budget\" : null,\n",
      "\"credits\" : {\n",
      "\t\"director\" : \"Andrew\",\n",
      "\t\"writer\" : \"Bill\",\n",
      "\t\"Composer\" : \"John\"\n",
      "\t}\n",
      "\n",
      "\n",
      "}\n",
      "\n"
     ]
    }
   ],
   "source": [
    "print(bio)"
   ]
  },
  {
   "cell_type": "markdown",
   "metadata": {},
   "source": [
    "writing to a file"
   ]
  },
  {
   "cell_type": "code",
   "execution_count": 14,
   "metadata": {},
   "outputs": [],
   "source": [
    "languges = ['Arabic', 'English', 'French', 'Italy']\n",
    "with open('new.txt', 'w') as f:\n",
    "    for i in languges:\n",
    "        f.write(i)\n",
    "        f.write('\\n')"
   ]
  },
  {
   "cell_type": "code",
   "execution_count": null,
   "metadata": {},
   "outputs": [],
   "source": []
  }
 ],
 "metadata": {
  "kernelspec": {
   "display_name": "Python 3",
   "language": "python",
   "name": "python3"
  },
  "language_info": {
   "codemirror_mode": {
    "name": "ipython",
    "version": 3
   },
   "file_extension": ".py",
   "mimetype": "text/x-python",
   "name": "python",
   "nbconvert_exporter": "python",
   "pygments_lexer": "ipython3",
   "version": "3.7.3"
  }
 },
 "nbformat": 4,
 "nbformat_minor": 2
}
