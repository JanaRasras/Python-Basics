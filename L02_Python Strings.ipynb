{
 "cells": [
  {
   "cell_type": "markdown",
   "metadata": {},
   "source": [
    "# Python Strings"
   ]
  },
  {
   "cell_type": "markdown",
   "metadata": {},
   "source": [
    "there are 3 ways writing a strings in Python: \n",
    "* some have apostrophes.\n",
    "* some have quotaion marks.\n",
    "* and the long Strings have new Lines."
   ]
  },
  {
   "cell_type": "markdown",
   "metadata": {},
   "source": [
    "###  Strings with single quotes"
   ]
  },
  {
   "cell_type": "code",
   "execution_count": 1,
   "metadata": {},
   "outputs": [
    {
     "name": "stdout",
     "output_type": "stream",
     "text": [
      "meet me tomorrow\n"
     ]
    }
   ],
   "source": [
    "msg = 'meet me tomorrow'\n",
    "print(msg)"
   ]
  },
  {
   "cell_type": "markdown",
   "metadata": {},
   "source": [
    "###  Strings with multiple quotes\n"
   ]
  },
  {
   "cell_type": "code",
   "execution_count": 2,
   "metadata": {},
   "outputs": [
    {
     "name": "stdout",
     "output_type": "stream",
     "text": [
      "The Clock striks at midnight\n"
     ]
    }
   ],
   "source": [
    "msg = \"The Clock striks at midnight\"\n",
    "print(msg)"
   ]
  },
  {
   "cell_type": "markdown",
   "metadata": {},
   "source": [
    "## Strings with apostrophes."
   ]
  },
  {
   "cell_type": "markdown",
   "metadata": {},
   "source": [
    "When there is an Apostrophe in the text, it may cause an error.\n",
    "\n",
    "example: I'm looking for Sth.\n",
    "\n",
    "there are 2 ways to solve this problem:\n",
    "* escape the apostrophe by putting a backslash in front of it.\n",
    "*  use quotes."
   ]
  },
  {
   "cell_type": "code",
   "execution_count": 7,
   "metadata": {},
   "outputs": [
    {
     "name": "stdout",
     "output_type": "stream",
     "text": [
      " I'm looking for Sth\n"
     ]
    }
   ],
   "source": [
    "msg3 =' I\\'m looking for Sth'\n",
    "print(msg3)"
   ]
  },
  {
   "cell_type": "code",
   "execution_count": 4,
   "metadata": {},
   "outputs": [
    {
     "name": "stdout",
     "output_type": "stream",
     "text": [
      " I'm looking for Sth\n"
     ]
    }
   ],
   "source": [
    "msg3 = \" I'm looking for Sth\"\n",
    "print(msg3)"
   ]
  },
  {
   "cell_type": "markdown",
   "metadata": {},
   "source": [
    "## Strings with quotaion marks.\n"
   ]
  },
  {
   "cell_type": "markdown",
   "metadata": {},
   "source": [
    "to avoid errors, we can use single qoutes."
   ]
  },
  {
   "cell_type": "code",
   "execution_count": 11,
   "metadata": {},
   "outputs": [
    {
     "name": "stdout",
     "output_type": "stream",
     "text": [
      "He said\" what you want to do?\" I am not looking for sb..\n"
     ]
    }
   ],
   "source": [
    "msg4 = 'He said\" what you want to do?\" I am not looking for sb..'\n",
    "print(msg4)"
   ]
  },
  {
   "cell_type": "markdown",
   "metadata": {},
   "source": [
    "## Strings withapostrophes and quotaion marks.\n"
   ]
  },
  {
   "cell_type": "markdown",
   "metadata": {},
   "source": [
    "use 3 double qoutes or 3 single qoutes"
   ]
  },
  {
   "cell_type": "code",
   "execution_count": 15,
   "metadata": {},
   "outputs": [
    {
     "name": "stdout",
     "output_type": "stream",
     "text": [
      " my favourite qoute from the godfather is:\n",
      "\"I'm gonna make him an offer he can't refuse. \" did you who said that?\n"
     ]
    }
   ],
   "source": [
    "movie_qoute = \"\"\" my favourite qoute from the godfather is:\n",
    "\"I'm gonna make him an offer he can't refuse. \" did you who said that?\"\"\" \n",
    "print(movie_qoute )"
   ]
  },
  {
   "cell_type": "code",
   "execution_count": null,
   "metadata": {},
   "outputs": [],
   "source": []
  }
 ],
 "metadata": {
  "kernelspec": {
   "display_name": "Python 3.7.3 64-bit ('ProgramData': virtualenv)",
   "language": "python",
   "name": "python37364bitprogramdatavirtualenv74009aab8504463d805a654f5b0ab293"
  },
  "language_info": {
   "codemirror_mode": {
    "name": "ipython",
    "version": 3
   },
   "file_extension": ".py",
   "mimetype": "text/x-python",
   "name": "python",
   "nbconvert_exporter": "python",
   "pygments_lexer": "ipython3",
   "version": "3.7.3"
  }
 },
 "nbformat": 4,
 "nbformat_minor": 2
}
