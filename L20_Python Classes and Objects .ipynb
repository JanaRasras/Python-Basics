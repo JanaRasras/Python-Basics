{
 "cells": [
  {
   "cell_type": "markdown",
   "metadata": {},
   "source": [
    "# Python Classes and Objects \n",
    "\n",
    "### Jana Rasras"
   ]
  },
  {
   "cell_type": "code",
   "execution_count": 1,
   "metadata": {},
   "outputs": [],
   "source": [
    "import datetime"
   ]
  },
  {
   "cell_type": "code",
   "execution_count": 14,
   "metadata": {},
   "outputs": [
    {
     "name": "stdout",
     "output_type": "stream",
     "text": [
      "34.02465753424657\n"
     ]
    }
   ],
   "source": [
    "class User:\n",
    "    ''' '''\n",
    "    def __init__(self, full_name, birthday):\n",
    "        self.name = full_name\n",
    "        self.birthday = birthday\n",
    "        name_peices = full_name.split(' ')\n",
    "        first_name = name_peices[0]\n",
    "        last_name = name_peices[-1]\n",
    "        \n",
    "    def age(self):\n",
    "        ''' '''\n",
    "        today = datetime.date(2020, 5, 12)\n",
    "        yyyy = int(self.birthday[0: 4])\n",
    "        mm = int(self.birthday[4: 6])\n",
    "        dd = int(self.birthday[6:8])\n",
    "        dob = datetime.date(yyyy, mm, dd)\n",
    "        age_in_days = (today - dob).days\n",
    "        age_in_years = age_in_days/365\n",
    "        return age_in_years\n",
    "    \n",
    "user = User('Dave Lother', '19860512')\n",
    "print(user.age())\n",
    "        "
   ]
  }
 ],
 "metadata": {
  "kernelspec": {
   "display_name": "Python 3",
   "language": "python",
   "name": "python3"
  },
  "language_info": {
   "codemirror_mode": {
    "name": "ipython",
    "version": 3
   },
   "file_extension": ".py",
   "mimetype": "text/x-python",
   "name": "python",
   "nbconvert_exporter": "python",
   "pygments_lexer": "ipython3",
   "version": "3.7.3"
  }
 },
 "nbformat": 4,
 "nbformat_minor": 2
}
