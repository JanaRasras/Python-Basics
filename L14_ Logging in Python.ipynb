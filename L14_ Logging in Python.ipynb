{
 "cells": [
  {
   "cell_type": "markdown",
   "metadata": {},
   "source": [
    "# Logging in Python\n",
    "\n",
    "### @ Jana Rasras"
   ]
  },
  {
   "cell_type": "markdown",
   "metadata": {},
   "source": [
    "##### Hope for  the best , but paln for the worst"
   ]
  },
  {
   "cell_type": "code",
   "execution_count": 1,
   "metadata": {},
   "outputs": [],
   "source": [
    "import logging\n",
    "import math"
   ]
  },
  {
   "cell_type": "code",
   "execution_count": 7,
   "metadata": {},
   "outputs": [
    {
     "name": "stdout",
     "output_type": "stream",
     "text": [
      "(-1.0, 1.0)\n"
     ]
    }
   ],
   "source": [
    "# create and configure logger\n",
    "LOG_FORMAT = '%(levelname)s %(asctime)s -%(message)s'\n",
    "logging.basicConfig(filename = 'S:\\\\logging.log',\n",
    "                    level = logging.DEBUG,\n",
    "                    format = LOG_FORMAT,\n",
    "                    filemode = 'w')\n",
    "\n",
    "logger = logging.getLogger()\n",
    "\n",
    "def quadratic_equation(a, b, c):\n",
    "    ''' return the solution of the quadtraic equation ax^2 + bx + c =0 '''\n",
    "    \n",
    "    logger.info('quadratic equation a{0}, {1}, {2}'.format(a, b, c))\n",
    "    \n",
    "    logger.debug('# compute the equation')\n",
    "    \n",
    "    disc = b**2 - 4*a*c\n",
    "    \n",
    "    logger.debug('# comute the 2 roots')\n",
    "    \n",
    "    root1 = (-b - math.sqrt(disc))/(2*a)\n",
    "    root2 = (-b + math.sqrt(disc))/(2*a)\n",
    "    \n",
    "    logger.debug('# return the roots')\n",
    "    return(root1, root2)\n",
    "\n",
    "roots = quadratic_equation(1, 0, -1)\n",
    "print(roots)\n",
    "    "
   ]
  },
  {
   "cell_type": "code",
   "execution_count": null,
   "metadata": {},
   "outputs": [],
   "source": []
  }
 ],
 "metadata": {
  "kernelspec": {
   "display_name": "Python 3",
   "language": "python",
   "name": "python3"
  },
  "language_info": {
   "codemirror_mode": {
    "name": "ipython",
    "version": 3
   },
   "file_extension": ".py",
   "mimetype": "text/x-python",
   "name": "python",
   "nbconvert_exporter": "python",
   "pygments_lexer": "ipython3",
   "version": "3.7.3"
  }
 },
 "nbformat": 4,
 "nbformat_minor": 2
}
