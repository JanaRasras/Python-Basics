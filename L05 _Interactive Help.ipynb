{
 "cells": [
  {
   "cell_type": "markdown",
   "metadata": {},
   "source": [
    "# Interactive Help\n",
    "### @ Jana Rasras"
   ]
  },
  {
   "cell_type": "markdown",
   "metadata": {},
   "source": [
    "\" The day will come when you are standed in the space and need to write a python script. It's unlikely you have no accsess, so if you need help you will be on your own \"\n",
    " to be indepent, you need to learn about python interactive help features.\n",
    " "
   ]
  },
  {
   "cell_type": "markdown",
   "metadata": {},
   "source": [
    "dir() # sort for directory\n",
    "it will list avalible objects.\n"
   ]
  },
  {
   "cell_type": "code",
   "execution_count": 2,
   "metadata": {},
   "outputs": [
    {
     "data": {
      "text/plain": [
       "['In',\n",
       " 'Out',\n",
       " '_',\n",
       " '_1',\n",
       " '__',\n",
       " '___',\n",
       " '__builtin__',\n",
       " '__builtins__',\n",
       " '__doc__',\n",
       " '__loader__',\n",
       " '__name__',\n",
       " '__package__',\n",
       " '__spec__',\n",
       " '_dh',\n",
       " '_i',\n",
       " '_i1',\n",
       " '_i2',\n",
       " '_ih',\n",
       " '_ii',\n",
       " '_iii',\n",
       " '_oh',\n",
       " 'exit',\n",
       " 'get_ipython',\n",
       " 'quit']"
      ]
     },
     "execution_count": 2,
     "metadata": {},
     "output_type": "execute_result"
    }
   ],
   "source": [
    "dir() # sort for directory"
   ]
  },
  {
   "cell_type": "markdown",
   "metadata": {},
   "source": [
    "#### __builtin__ : is a module that contains a collections of common objects that alaways avalible .\n"
   ]
  },
  {
   "cell_type": "code",
   "execution_count": 4,
   "metadata": {},
   "outputs": [
    {
     "data": {
      "text/plain": [
       "['ArithmeticError',\n",
       " 'AssertionError',\n",
       " 'AttributeError',\n",
       " 'BaseException',\n",
       " 'BlockingIOError',\n",
       " 'BrokenPipeError',\n",
       " 'BufferError',\n",
       " 'BytesWarning',\n",
       " 'ChildProcessError',\n",
       " 'ConnectionAbortedError',\n",
       " 'ConnectionError',\n",
       " 'ConnectionRefusedError',\n",
       " 'ConnectionResetError',\n",
       " 'DeprecationWarning',\n",
       " 'EOFError',\n",
       " 'Ellipsis',\n",
       " 'EnvironmentError',\n",
       " 'Exception',\n",
       " 'False',\n",
       " 'FileExistsError',\n",
       " 'FileNotFoundError',\n",
       " 'FloatingPointError',\n",
       " 'FutureWarning',\n",
       " 'GeneratorExit',\n",
       " 'IOError',\n",
       " 'ImportError',\n",
       " 'ImportWarning',\n",
       " 'IndentationError',\n",
       " 'IndexError',\n",
       " 'InterruptedError',\n",
       " 'IsADirectoryError',\n",
       " 'KeyError',\n",
       " 'KeyboardInterrupt',\n",
       " 'LookupError',\n",
       " 'MemoryError',\n",
       " 'ModuleNotFoundError',\n",
       " 'NameError',\n",
       " 'None',\n",
       " 'NotADirectoryError',\n",
       " 'NotImplemented',\n",
       " 'NotImplementedError',\n",
       " 'OSError',\n",
       " 'OverflowError',\n",
       " 'PendingDeprecationWarning',\n",
       " 'PermissionError',\n",
       " 'ProcessLookupError',\n",
       " 'RecursionError',\n",
       " 'ReferenceError',\n",
       " 'ResourceWarning',\n",
       " 'RuntimeError',\n",
       " 'RuntimeWarning',\n",
       " 'StopAsyncIteration',\n",
       " 'StopIteration',\n",
       " 'SyntaxError',\n",
       " 'SyntaxWarning',\n",
       " 'SystemError',\n",
       " 'SystemExit',\n",
       " 'TabError',\n",
       " 'TimeoutError',\n",
       " 'True',\n",
       " 'TypeError',\n",
       " 'UnboundLocalError',\n",
       " 'UnicodeDecodeError',\n",
       " 'UnicodeEncodeError',\n",
       " 'UnicodeError',\n",
       " 'UnicodeTranslateError',\n",
       " 'UnicodeWarning',\n",
       " 'UserWarning',\n",
       " 'ValueError',\n",
       " 'Warning',\n",
       " 'WindowsError',\n",
       " 'ZeroDivisionError',\n",
       " '__IPYTHON__',\n",
       " '__build_class__',\n",
       " '__debug__',\n",
       " '__doc__',\n",
       " '__import__',\n",
       " '__loader__',\n",
       " '__name__',\n",
       " '__package__',\n",
       " '__spec__',\n",
       " 'abs',\n",
       " 'all',\n",
       " 'any',\n",
       " 'ascii',\n",
       " 'bin',\n",
       " 'bool',\n",
       " 'breakpoint',\n",
       " 'bytearray',\n",
       " 'bytes',\n",
       " 'callable',\n",
       " 'chr',\n",
       " 'classmethod',\n",
       " 'compile',\n",
       " 'complex',\n",
       " 'copyright',\n",
       " 'credits',\n",
       " 'delattr',\n",
       " 'dict',\n",
       " 'dir',\n",
       " 'display',\n",
       " 'divmod',\n",
       " 'enumerate',\n",
       " 'eval',\n",
       " 'exec',\n",
       " 'filter',\n",
       " 'float',\n",
       " 'format',\n",
       " 'frozenset',\n",
       " 'get_ipython',\n",
       " 'getattr',\n",
       " 'globals',\n",
       " 'hasattr',\n",
       " 'hash',\n",
       " 'help',\n",
       " 'hex',\n",
       " 'id',\n",
       " 'input',\n",
       " 'int',\n",
       " 'isinstance',\n",
       " 'issubclass',\n",
       " 'iter',\n",
       " 'len',\n",
       " 'license',\n",
       " 'list',\n",
       " 'locals',\n",
       " 'map',\n",
       " 'max',\n",
       " 'memoryview',\n",
       " 'min',\n",
       " 'next',\n",
       " 'object',\n",
       " 'oct',\n",
       " 'open',\n",
       " 'ord',\n",
       " 'pow',\n",
       " 'print',\n",
       " 'property',\n",
       " 'range',\n",
       " 'repr',\n",
       " 'reversed',\n",
       " 'round',\n",
       " 'set',\n",
       " 'setattr',\n",
       " 'slice',\n",
       " 'sorted',\n",
       " 'staticmethod',\n",
       " 'str',\n",
       " 'sum',\n",
       " 'super',\n",
       " 'tuple',\n",
       " 'type',\n",
       " 'vars',\n",
       " 'zip']"
      ]
     },
     "execution_count": 4,
     "metadata": {},
     "output_type": "execute_result"
    }
   ],
   "source": [
    "dir(__builtin__)\n",
    "# this list contains dozens of objects that are ready for use."
   ]
  },
  {
   "cell_type": "markdown",
   "metadata": {},
   "source": [
    "#### to learn about of the object call help function."
   ]
  },
  {
   "cell_type": "code",
   "execution_count": 6,
   "metadata": {},
   "outputs": [
    {
     "name": "stdout",
     "output_type": "stream",
     "text": [
      "Help on built-in function pow in module builtins:\n",
      "\n",
      "pow(x, y, z=None, /)\n",
      "    Equivalent to x**y (with two arguments) or x**y % z (with three arguments)\n",
      "    \n",
      "    Some types, such as ints, are able to use a more efficient algorithm when\n",
      "    invoked using the three argument form.\n",
      "\n"
     ]
    }
   ],
   "source": [
    "help(pow)"
   ]
  },
  {
   "cell_type": "markdown",
   "metadata": {},
   "source": [
    "* the 1st line: confirms that its a function in the built in module.\n",
    "* the following lines, show how to use the function.\n",
    "* the third input _z_  = none which means its optional. \n",
    "* the first 2 inputs are required."
   ]
  },
  {
   "cell_type": "markdown",
   "metadata": {},
   "source": [
    "Lets learn about the 'hex' function, from the builtin function."
   ]
  },
  {
   "cell_type": "code",
   "execution_count": 9,
   "metadata": {},
   "outputs": [
    {
     "name": "stdout",
     "output_type": "stream",
     "text": [
      "Help on built-in function hex in module builtins:\n",
      "\n",
      "hex(number, /)\n",
      "    Return the hexadecimal representation of an integer.\n",
      "    \n",
      "    >>> hex(12648430)\n",
      "    '0xc0ffee'\n",
      "\n"
     ]
    }
   ],
   "source": [
    "help(hex)"
   ]
  },
  {
   "cell_type": "code",
   "execution_count": 10,
   "metadata": {},
   "outputs": [
    {
     "data": {
      "text/plain": [
       "'0xa'"
      ]
     },
     "execution_count": 10,
     "metadata": {},
     "output_type": "execute_result"
    }
   ],
   "source": [
    "hex(10)"
   ]
  },
  {
   "cell_type": "code",
   "execution_count": 12,
   "metadata": {},
   "outputs": [
    {
     "data": {
      "text/plain": [
       "10"
      ]
     },
     "execution_count": 12,
     "metadata": {},
     "output_type": "execute_result"
    }
   ],
   "source": [
    "0xa"
   ]
  },
  {
   "cell_type": "markdown",
   "metadata": {},
   "source": [
    "#### List of modules"
   ]
  },
  {
   "cell_type": "code",
   "execution_count": 13,
   "metadata": {},
   "outputs": [
    {
     "name": "stdout",
     "output_type": "stream",
     "text": [
      "\n",
      "Please wait a moment while I gather a list of all available modules...\n",
      "\n"
     ]
    },
    {
     "name": "stderr",
     "output_type": "stream",
     "text": [
      "C:\\ProgramData\\Miniconda3\\lib\\site-packages\\IPython\\kernel\\__init__.py:13: ShimWarning: The `IPython.kernel` package has been deprecated since IPython 4.0.You should import from ipykernel or jupyter_client instead.\n",
      "  \"You should import from ipykernel or jupyter_client instead.\", ShimWarning)\n"
     ]
    },
    {
     "name": "stdout",
     "output_type": "stream",
     "text": [
      "Start\n",
      "Start\n"
     ]
    },
    {
     "name": "stderr",
     "output_type": "stream",
     "text": [
      "unable to import 'smart_open.gcs', disabling that module\n",
      "The twython library has not been installed. Some functionality from the twitter package will not be available.\n"
     ]
    },
    {
     "name": "stdout",
     "output_type": "stream",
     "text": [
      "pygame 1.9.6\n",
      "Hello from the pygame community. https://www.pygame.org/contribute.html\n"
     ]
    },
    {
     "name": "stderr",
     "output_type": "stream",
     "text": [
      "sklearn.externals.joblib is deprecated in 0.21 and will be removed in 0.23. Please import this functionality directly from joblib, which can be installed with: pip install joblib. If this warning is raised when loading pickled models, you may need to re-serialize those models with scikit-learn 0.21+.\n",
      "zmq.eventloop.minitornado is deprecated in pyzmq 14.0 and will be removed.\n",
      "    Install tornado itself to use zmq with the tornado IOLoop.\n",
      "    \n"
     ]
    },
    {
     "name": "stdout",
     "output_type": "stream",
     "text": [
      "IPython             brain_numpy_core_numerictypes logging             sockshandler\n",
      "OpenSSL             brain_numpy_core_umath lzma                soupsieve\n",
      "PIL                 brain_numpy_ndarray macpath             sqlite3\n",
      "PyQt5               brain_numpy_random_mtrand mahotas             sre_compile\n",
      "__future__          brain_numpy_utils   mailbox             sre_constants\n",
      "_abc                brain_pkg_resources mailcap             sre_parse\n",
      "_ast                brain_pytest        markupsafe          ssl\n",
      "_asyncio            brain_qt            marshal             sspi\n",
      "_bisect             brain_random        math                sspicon\n",
      "_blake2             brain_re            matplotlib          stat\n",
      "_bootlocale         brain_six           mccabe              statistics\n",
      "_bz2                brain_ssl           menuinst            stevedore\n",
      "_cffi_backend       brain_subprocess    mimetypes           storemagic\n",
      "_codecs             brain_threading     mistune             string\n",
      "_codecs_cn          brain_typing        mkl                 stringprep\n",
      "_codecs_hk          brain_uuid          mkl_fft             struct\n",
      "_codecs_iso2022     bs4                 mkl_random          subprocess\n",
      "_codecs_jp          builtins            mmap                sunau\n",
      "_codecs_kr          bz2                 mmapfile            symbol\n",
      "_codecs_tw          cProfile            mmsystem            sympyprinting\n",
      "_collections        caffe2              modulefinder        symtable\n",
      "_collections_abc    calendar            more_itertools      sys\n",
      "_compat_pickle      certifi             msilib              sysconfig\n",
      "_compression        cffi                msvcrt              tabnanny\n",
      "_contextvars        cgi                 multiprocessing     tarfile\n",
      "_csv                cgitb               nbconvert           telnetlib\n",
      "_ctypes             chardet             nbformat            tempfile\n",
      "_ctypes_test        chunk               netbios             terminado\n",
      "_datetime           cmath               netrc               test\n",
      "_decimal            cmd                 nltk                test_data\n",
      "_dummy_thread       code                nntplib             test_pycosat\n",
      "_elementtree        codecs              notebook            testpath\n",
      "_functools          codeop              nt                  tests\n",
      "_hashlib            collections         ntpath              textwrap\n",
      "_heapq              colorama            ntsecuritycon       this\n",
      "_imp                colorsys            nturl2path          threading\n",
      "_io                 commctrl            numba               time\n",
      "_json               compileall          numbers             timeit\n",
      "_locale             concurrent          numpy               timer\n",
      "_lsprof             conda               odbc                tkinter\n",
      "_lzma               conda_env           olefile             token\n",
      "_markupbase         conda_package_handling opcode              tokenize\n",
      "_md5                configparser        operator            torch\n",
      "_msi                contextlib          optparse            torchsummary\n",
      "_multibytecodec     contextvars         os                  torchvision\n",
      "_multiprocessing    copy                packaging           tornado\n",
      "_nsis               copyreg             pandas              tqdm\n",
      "_opcode             crypt               pandocfilters       trace\n",
      "_operator           cryptography        parser              traceback\n",
      "_osx_support        csv                 parso               tracemalloc\n",
      "_overlapped         ctypes              past                traitlets\n",
      "_pickle             curses              pathlib             tty\n",
      "_portaudio          cv2                 pbr                 turtle\n",
      "_py_abc             cwp                 pdb                 turtledemo\n",
      "_pydecimal          cycler              perfmon             types\n",
      "_pyio               cythonmagic         pickle              typing\n",
      "_pyrsistent_version dataclasses         pickleshare         tzlocal\n",
      "_queue              datetime            pickletools         unicodedata\n",
      "_random             dateutil            pip                 unittest\n",
      "_sha1               dbi                 pipes               urllib\n",
      "_sha256             dbm                 pipwin              urllib3\n",
      "_sha3               dde                 pkg_resources       uu\n",
      "_sha512             decimal             pkgutil             uuid\n",
      "_signal             decorator           platform            venv\n",
      "_sitebuiltins       defusedxml          plistlib            warnings\n",
      "_socket             difflib             poplib              wave\n",
      "_sqlite3            dis                 posixpath           wcwidth\n",
      "_sre                distutils           pprint              weakref\n",
      "_ssl                docopt              profile             webbrowser\n",
      "_stat               doctest             prometheus_client   webencodings\n",
      "_string             docutils            prompt_toolkit      wheel\n",
      "_strptime           dummy_threading     pstats              widgetsnbextension\n",
      "_struct             easy_install        pty                 win2kras\n",
      "_symtable           email               pvectorc            win32api\n",
      "_system_path        encodings           pySmartDL           win32clipboard\n",
      "_testbuffer         ensurepip           py_compile          win32com\n",
      "_testcapi           entrypoints         pyaudio             win32con\n",
      "_testconsole        enum                pyclbr              win32console\n",
      "_testimportmultiple errno               pycosat             win32cred\n",
      "_testmultiphase     faulthandler        pycparser           win32crypt\n",
      "_thread             filecmp             pydoc               win32cryptcon\n",
      "_threading_local    fileinput           pydoc_data          win32event\n",
      "_tkinter            fnmatch             pyexpat             win32evtlog\n",
      "_tracemalloc        formatter           pygame              win32evtlogutil\n",
      "_warnings           fractions           pyglet              win32file\n",
      "_weakref            ftplib              pyglet_ffmpeg2      win32gui\n",
      "_weakrefset         functools           pygments            win32gui_struct\n",
      "_win32sysloader     future              pyjsparser          win32help\n",
      "_winapi             gc                  pylab               win32inet\n",
      "_winxptheme         genericpath         pylint              win32inetcon\n",
      "_yaml               gensim              pyparsing           win32job\n",
      "abc                 getopt              pyprind             win32lz\n",
      "adodbapi            getpass             pyrsistent          win32net\n",
      "afxres              gettext             pythoncom           win32netcon\n",
      "aifc                git                 pytiled_parser      win32pdh\n",
      "antigravity         gitdb               pytz                win32pdhquery\n",
      "arcade              glob                pywin               win32pdhutil\n",
      "argparse            gzip                pywin32_testutil    win32pipe\n",
      "array               hashlib             pywintypes          win32print\n",
      "asn1crypto          heapq               qtconsole           win32process\n",
      "ast                 hmac                queue               win32profile\n",
      "astroid             html                quopri              win32ras\n",
      "asynchat            http                random              win32rcparser\n",
      "asyncio             idlelib             rasutil             win32security\n",
      "asyncore            idna                re                  win32service\n",
      "atexit              imageio             regcheck            win32serviceutil\n",
      "attr                imaplib             regutil             win32timezone\n",
      "audioop             imghdr              reprlib             win32trace\n",
      "autoreload          imp                 requests            win32traceutil\n",
      "backcall            importlib           rlcompleter         win32transaction\n",
      "bandit              importlib_metadata  rmagic              win32ts\n",
      "base64              inspect             ruamel_yaml         win32ui\n",
      "bdb                 io                  runpy               win32uiole\n",
      "binascii            ipaddress           s3transfer          win32verstamp\n",
      "binhex              ipykernel           sched               win32wnet\n",
      "bisect              ipykernel_launcher  scipy               win_inet_pton\n",
      "bleach              ipython_genutils    seaborn             wincertstore\n"
     ]
    },
    {
     "name": "stdout",
     "output_type": "stream",
     "text": [
      "boto                ipywidgets          secrets             winerror\n",
      "boto3               isapi               select              winioctlcon\n",
      "botocore            isort               selectors           winnt\n",
      "brain_argparse      itertools           send2trash          winperf\n",
      "brain_attrs         jedi                servicemanager      winpty\n",
      "brain_builtin_inference jinja2              setuptools          winreg\n",
      "brain_collections   jmespath            shelve              winsound\n",
      "brain_crypt         joblib              shlex               winxpgui\n",
      "brain_curses        js2py               shutil              winxptheme\n",
      "brain_dataclasses   json                signal              wrapt\n",
      "brain_dateutil      jsonschema          simpleaudio         wsgiref\n",
      "brain_fstrings      jupyter             sip                 xdrlib\n",
      "brain_functools     jupyter_client      sipconfig           xml\n",
      "brain_gi            jupyter_console     sipdistutils        xmlrpc\n",
      "brain_hashlib       jupyter_core        site                xxsubtype\n",
      "brain_http          keyword             six                 yaml\n",
      "brain_io            kiwisolver          sklearn             zipapp\n",
      "brain_mechanize     lazy_object_proxy   smart_open          zipfile\n",
      "brain_multiprocessing lib2to3             smmap               zipimport\n",
      "brain_namedtuple_enum libarchive          smtpd               zipp\n",
      "brain_nose          libfuturize         smtplib             zlib\n",
      "brain_numpy_core_fromnumeric libpasteurize       sndhdr              zmq\n",
      "brain_numpy_core_function_base linecache           socket              \n",
      "brain_numpy_core_multiarray llvmlite            socketserver        \n",
      "brain_numpy_core_numeric locale              socks               \n",
      "\n",
      "Enter any module name to get more help.  Or, type \"modules spam\" to search\n",
      "for modules whose name or summary contain the string \"spam\".\n",
      "\n"
     ]
    }
   ],
   "source": [
    "help('modules')"
   ]
  },
  {
   "cell_type": "markdown",
   "metadata": {},
   "source": [
    "* To learn aabout module, you need to import it first.\n"
   ]
  },
  {
   "cell_type": "code",
   "execution_count": 14,
   "metadata": {},
   "outputs": [],
   "source": [
    "import math"
   ]
  },
  {
   "cell_type": "code",
   "execution_count": 15,
   "metadata": {},
   "outputs": [
    {
     "data": {
      "text/plain": [
       "['__doc__',\n",
       " '__loader__',\n",
       " '__name__',\n",
       " '__package__',\n",
       " '__spec__',\n",
       " 'acos',\n",
       " 'acosh',\n",
       " 'asin',\n",
       " 'asinh',\n",
       " 'atan',\n",
       " 'atan2',\n",
       " 'atanh',\n",
       " 'ceil',\n",
       " 'copysign',\n",
       " 'cos',\n",
       " 'cosh',\n",
       " 'degrees',\n",
       " 'e',\n",
       " 'erf',\n",
       " 'erfc',\n",
       " 'exp',\n",
       " 'expm1',\n",
       " 'fabs',\n",
       " 'factorial',\n",
       " 'floor',\n",
       " 'fmod',\n",
       " 'frexp',\n",
       " 'fsum',\n",
       " 'gamma',\n",
       " 'gcd',\n",
       " 'hypot',\n",
       " 'inf',\n",
       " 'isclose',\n",
       " 'isfinite',\n",
       " 'isinf',\n",
       " 'isnan',\n",
       " 'ldexp',\n",
       " 'lgamma',\n",
       " 'log',\n",
       " 'log10',\n",
       " 'log1p',\n",
       " 'log2',\n",
       " 'modf',\n",
       " 'nan',\n",
       " 'pi',\n",
       " 'pow',\n",
       " 'radians',\n",
       " 'remainder',\n",
       " 'sin',\n",
       " 'sinh',\n",
       " 'sqrt',\n",
       " 'tan',\n",
       " 'tanh',\n",
       " 'tau',\n",
       " 'trunc']"
      ]
     },
     "execution_count": 15,
     "metadata": {},
     "output_type": "execute_result"
    }
   ],
   "source": [
    "dir(math)"
   ]
  },
  {
   "cell_type": "markdown",
   "metadata": {},
   "source": [
    "* To use the help, you must specify the path to the function."
   ]
  },
  {
   "cell_type": "code",
   "execution_count": 18,
   "metadata": {},
   "outputs": [
    {
     "name": "stdout",
     "output_type": "stream",
     "text": [
      "Help on built-in function radians in module math:\n",
      "\n",
      "radians(x, /)\n",
      "    Convert angle x from degrees to radians.\n",
      "\n"
     ]
    }
   ],
   "source": [
    "help(math.radians)"
   ]
  },
  {
   "cell_type": "code",
   "execution_count": 19,
   "metadata": {},
   "outputs": [
    {
     "data": {
      "text/plain": [
       "3.141592653589793"
      ]
     },
     "execution_count": 19,
     "metadata": {},
     "output_type": "execute_result"
    }
   ],
   "source": [
    "math.radians(180)"
   ]
  },
  {
   "cell_type": "markdown",
   "metadata": {},
   "source": []
  }
 ],
 "metadata": {
  "kernelspec": {
   "display_name": "Python 3",
   "language": "python",
   "name": "python3"
  },
  "language_info": {
   "codemirror_mode": {
    "name": "ipython",
    "version": 3
   },
   "file_extension": ".py",
   "mimetype": "text/x-python",
   "name": "python",
   "nbconvert_exporter": "python",
   "pygments_lexer": "ipython3",
   "version": "3.7.3"
  }
 },
 "nbformat": 4,
 "nbformat_minor": 2
}
