{
 "cells": [
  {
   "cell_type": "markdown",
   "metadata": {},
   "source": [
    "# Datetime Module\n",
    "## Jana Rasras"
   ]
  },
  {
   "cell_type": "code",
   "execution_count": 1,
   "metadata": {},
   "outputs": [],
   "source": [
    "import datetime"
   ]
  },
  {
   "cell_type": "code",
   "execution_count": 2,
   "metadata": {},
   "outputs": [
    {
     "data": {
      "text/plain": [
       "['MAXYEAR',\n",
       " 'MINYEAR',\n",
       " '__builtins__',\n",
       " '__cached__',\n",
       " '__doc__',\n",
       " '__file__',\n",
       " '__loader__',\n",
       " '__name__',\n",
       " '__package__',\n",
       " '__spec__',\n",
       " 'date',\n",
       " 'datetime',\n",
       " 'datetime_CAPI',\n",
       " 'sys',\n",
       " 'time',\n",
       " 'timedelta',\n",
       " 'timezone',\n",
       " 'tzinfo']"
      ]
     },
     "execution_count": 2,
     "metadata": {},
     "output_type": "execute_result"
    }
   ],
   "source": [
    "dir(datetime)"
   ]
  },
  {
   "cell_type": "code",
   "execution_count": 3,
   "metadata": {},
   "outputs": [
    {
     "name": "stdout",
     "output_type": "stream",
     "text": [
      "Help on class date in module datetime:\n",
      "\n",
      "class date(builtins.object)\n",
      " |  date(year, month, day) --> date object\n",
      " |  \n",
      " |  Methods defined here:\n",
      " |  \n",
      " |  __add__(self, value, /)\n",
      " |      Return self+value.\n",
      " |  \n",
      " |  __eq__(self, value, /)\n",
      " |      Return self==value.\n",
      " |  \n",
      " |  __format__(...)\n",
      " |      Formats self with strftime.\n",
      " |  \n",
      " |  __ge__(self, value, /)\n",
      " |      Return self>=value.\n",
      " |  \n",
      " |  __getattribute__(self, name, /)\n",
      " |      Return getattr(self, name).\n",
      " |  \n",
      " |  __gt__(self, value, /)\n",
      " |      Return self>value.\n",
      " |  \n",
      " |  __hash__(self, /)\n",
      " |      Return hash(self).\n",
      " |  \n",
      " |  __le__(self, value, /)\n",
      " |      Return self<=value.\n",
      " |  \n",
      " |  __lt__(self, value, /)\n",
      " |      Return self<value.\n",
      " |  \n",
      " |  __ne__(self, value, /)\n",
      " |      Return self!=value.\n",
      " |  \n",
      " |  __radd__(self, value, /)\n",
      " |      Return value+self.\n",
      " |  \n",
      " |  __reduce__(...)\n",
      " |      __reduce__() -> (cls, state)\n",
      " |  \n",
      " |  __repr__(self, /)\n",
      " |      Return repr(self).\n",
      " |  \n",
      " |  __rsub__(self, value, /)\n",
      " |      Return value-self.\n",
      " |  \n",
      " |  __str__(self, /)\n",
      " |      Return str(self).\n",
      " |  \n",
      " |  __sub__(self, value, /)\n",
      " |      Return self-value.\n",
      " |  \n",
      " |  ctime(...)\n",
      " |      Return ctime() style string.\n",
      " |  \n",
      " |  isocalendar(...)\n",
      " |      Return a 3-tuple containing ISO year, week number, and weekday.\n",
      " |  \n",
      " |  isoformat(...)\n",
      " |      Return string in ISO 8601 format, YYYY-MM-DD.\n",
      " |  \n",
      " |  isoweekday(...)\n",
      " |      Return the day of the week represented by the date.\n",
      " |      Monday == 1 ... Sunday == 7\n",
      " |  \n",
      " |  replace(...)\n",
      " |      Return date with new specified fields.\n",
      " |  \n",
      " |  strftime(...)\n",
      " |      format -> strftime() style string.\n",
      " |  \n",
      " |  timetuple(...)\n",
      " |      Return time tuple, compatible with time.localtime().\n",
      " |  \n",
      " |  toordinal(...)\n",
      " |      Return proleptic Gregorian ordinal.  January 1 of year 1 is day 1.\n",
      " |  \n",
      " |  weekday(...)\n",
      " |      Return the day of the week represented by the date.\n",
      " |      Monday == 0 ... Sunday == 6\n",
      " |  \n",
      " |  ----------------------------------------------------------------------\n",
      " |  Class methods defined here:\n",
      " |  \n",
      " |  fromisoformat(...) from builtins.type\n",
      " |      str -> Construct a date from the output of date.isoformat()\n",
      " |  \n",
      " |  fromordinal(...) from builtins.type\n",
      " |      int -> date corresponding to a proleptic Gregorian ordinal.\n",
      " |  \n",
      " |  fromtimestamp(...) from builtins.type\n",
      " |      timestamp -> local date from a POSIX timestamp (like time.time()).\n",
      " |  \n",
      " |  today(...) from builtins.type\n",
      " |      Current date or datetime:  same as self.__class__.fromtimestamp(time.time()).\n",
      " |  \n",
      " |  ----------------------------------------------------------------------\n",
      " |  Static methods defined here:\n",
      " |  \n",
      " |  __new__(*args, **kwargs) from builtins.type\n",
      " |      Create and return a new object.  See help(type) for accurate signature.\n",
      " |  \n",
      " |  ----------------------------------------------------------------------\n",
      " |  Data descriptors defined here:\n",
      " |  \n",
      " |  day\n",
      " |  \n",
      " |  month\n",
      " |  \n",
      " |  year\n",
      " |  \n",
      " |  ----------------------------------------------------------------------\n",
      " |  Data and other attributes defined here:\n",
      " |  \n",
      " |  max = datetime.date(9999, 12, 31)\n",
      " |  \n",
      " |  min = datetime.date(1, 1, 1)\n",
      " |  \n",
      " |  resolution = datetime.timedelta(days=1)\n",
      "\n"
     ]
    }
   ],
   "source": [
    "help(datetime.date)"
   ]
  },
  {
   "cell_type": "code",
   "execution_count": 22,
   "metadata": {},
   "outputs": [
    {
     "name": "stdout",
     "output_type": "stream",
     "text": [
      "1950-12-11\n"
     ]
    }
   ],
   "source": [
    "gvr = datetime.date(1950, 12, 11)\n",
    "print(gvr)"
   ]
  },
  {
   "cell_type": "code",
   "execution_count": 8,
   "metadata": {},
   "outputs": [
    {
     "name": "stdout",
     "output_type": "stream",
     "text": [
      "1950\n"
     ]
    }
   ],
   "source": [
    "print(gvr.year)"
   ]
  },
  {
   "cell_type": "code",
   "execution_count": 9,
   "metadata": {},
   "outputs": [
    {
     "name": "stdout",
     "output_type": "stream",
     "text": [
      "12\n"
     ]
    }
   ],
   "source": [
    "print(gvr.month)"
   ]
  },
  {
   "cell_type": "code",
   "execution_count": 21,
   "metadata": {},
   "outputs": [
    {
     "name": "stdout",
     "output_type": "stream",
     "text": [
      "11\n"
     ]
    }
   ],
   "source": [
    "print(gvr.day)"
   ]
  },
  {
   "cell_type": "markdown",
   "metadata": {},
   "source": [
    "The documentation and abbreviations of datetime can be found here :\n",
    "https://docs.python.org/3/library/datetime.html?highlight=datetime#module-datetime "
   ]
  },
  {
   "cell_type": "code",
   "execution_count": 26,
   "metadata": {},
   "outputs": [
    {
     "name": "stdout",
     "output_type": "stream",
     "text": [
      "Monday, December 11, 1950\n"
     ]
    }
   ],
   "source": [
    "print(gvr.strftime(\"%A, %B %d, %Y\"))"
   ]
  },
  {
   "cell_type": "code",
   "execution_count": 30,
   "metadata": {},
   "outputs": [
    {
     "name": "stdout",
     "output_type": "stream",
     "text": [
      "2017-04-12 21:08:30\n"
     ]
    }
   ],
   "source": [
    "launch_datetime = datetime.datetime(2017, 4, 12, 21, 8, 30)\n",
    "print(launch_datetime)"
   ]
  },
  {
   "cell_type": "code",
   "execution_count": 34,
   "metadata": {},
   "outputs": [
    {
     "name": "stdout",
     "output_type": "stream",
     "text": [
      "21:08:02\n"
     ]
    }
   ],
   "source": [
    "launch_date = datetime.time(21,8,2)\n",
    "print(launch_date)"
   ]
  },
  {
   "cell_type": "code",
   "execution_count": 35,
   "metadata": {},
   "outputs": [
    {
     "name": "stdout",
     "output_type": "stream",
     "text": [
      "21\n"
     ]
    }
   ],
   "source": [
    "print(launch_date.hour)"
   ]
  },
  {
   "cell_type": "code",
   "execution_count": 36,
   "metadata": {},
   "outputs": [
    {
     "name": "stdout",
     "output_type": "stream",
     "text": [
      "2\n"
     ]
    }
   ],
   "source": [
    "print(launch_date.second)"
   ]
  },
  {
   "cell_type": "markdown",
   "metadata": {},
   "source": [
    "#### current datetime"
   ]
  },
  {
   "cell_type": "code",
   "execution_count": 41,
   "metadata": {},
   "outputs": [
    {
     "name": "stdout",
     "output_type": "stream",
     "text": [
      "2020-07-07 15:11:30.026763\n"
     ]
    }
   ],
   "source": [
    "now = datetime.datetime.today()\n",
    "print(now)"
   ]
  },
  {
   "cell_type": "markdown",
   "metadata": {},
   "source": [
    "#### convert string to datetime"
   ]
  },
  {
   "cell_type": "code",
   "execution_count": 53,
   "metadata": {},
   "outputs": [
    {
     "name": "stdout",
     "output_type": "stream",
     "text": [
      "1969-07-20 00:00:00\n"
     ]
    }
   ],
   "source": [
    "date = '7/20/1969'\n",
    "print(datetime.datetime.strptime(date, \"%m/%d/%Y\"))"
   ]
  },
  {
   "cell_type": "code",
   "execution_count": null,
   "metadata": {},
   "outputs": [],
   "source": []
  }
 ],
 "metadata": {
  "kernelspec": {
   "display_name": "Python 3",
   "language": "python",
   "name": "python3"
  },
  "language_info": {
   "codemirror_mode": {
    "name": "ipython",
    "version": 3
   },
   "file_extension": ".py",
   "mimetype": "text/x-python",
   "name": "python",
   "nbconvert_exporter": "python",
   "pygments_lexer": "ipython3",
   "version": "3.7.3"
  }
 },
 "nbformat": 4,
 "nbformat_minor": 2
}
